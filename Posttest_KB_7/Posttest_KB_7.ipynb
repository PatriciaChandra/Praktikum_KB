{
 "cells": [
  {
   "cell_type": "markdown",
   "id": "98b61823",
   "metadata": {},
   "source": [
    "## Posttest KB 7"
   ]
  },
  {
   "cell_type": "markdown",
   "id": "0002cd6c",
   "metadata": {},
   "source": [
    "Nama : Patricia Chandra"
   ]
  },
  {
   "cell_type": "markdown",
   "id": "eaefba2c",
   "metadata": {},
   "source": [
    "NIM : 2009106030"
   ]
  },
  {
   "cell_type": "markdown",
   "id": "0deb801e",
   "metadata": {},
   "source": [
    "Kelas : Informatika A"
   ]
  },
  {
   "cell_type": "markdown",
   "id": "e123b7ac",
   "metadata": {},
   "source": [
    "1. Buatlah sebuah tensor dengan shape(5,5) dengan nilai random yang disimpan dalam variable random_tensor"
   ]
  },
  {
   "cell_type": "code",
   "execution_count": 15,
   "id": "5061abec",
   "metadata": {},
   "outputs": [],
   "source": [
    "import tensorflow as tf"
   ]
  },
  {
   "cell_type": "code",
   "execution_count": 20,
   "id": "42c990a8",
   "metadata": {},
   "outputs": [
    {
     "data": {
      "text/plain": [
       "array([[ 1.0221016 ,  2.1487036 ,  1.2131    ,  2.3831239 , -0.26141548],\n",
       "       [ 1.392834  ,  3.2047813 ,  3.9090552 ,  1.4396985 ,  2.2059417 ],\n",
       "       [ 2.6110075 ,  2.8681412 ,  1.5272284 ,  1.878454  ,  1.5347662 ],\n",
       "       [ 1.9213053 ,  2.2337909 ,  2.069285  ,  3.6110878 ,  0.53981936],\n",
       "       [ 1.2902892 ,  0.8324944 ,  1.369707  , -0.57819724,  2.4647884 ]],\n",
       "      dtype=float32)"
      ]
     },
     "execution_count": 20,
     "metadata": {},
     "output_type": "execute_result"
    }
   ],
   "source": [
    "random_tensor = tf.Variable(tf.random.normal([5,5], mean=2, stddev=1, dtype=tf.float32, seed=30))\n",
    "random_tensor.read_value().numpy()"
   ]
  },
  {
   "cell_type": "markdown",
   "id": "c5d6dc3b",
   "metadata": {},
   "source": [
    "## "
   ]
  },
  {
   "cell_type": "markdown",
   "id": "c550ad14",
   "metadata": {},
   "source": [
    "2. Buatlah sebuah tensor dengan shape(5,5) dari sebuah list dengan nilai bilangan prima dalam variable prime_tensor"
   ]
  },
  {
   "cell_type": "code",
   "execution_count": 21,
   "id": "98a5f7fd",
   "metadata": {},
   "outputs": [],
   "source": [
    "list = [[2,3,5,7,11],[13,17,19,23,29],[31,37,41,43,47],[53,59,61,67,71],[73,79,83,89,97]]"
   ]
  },
  {
   "cell_type": "code",
   "execution_count": 22,
   "id": "93c6442a",
   "metadata": {},
   "outputs": [
    {
     "data": {
      "text/plain": [
       "array([[ 2.,  3.,  5.,  7., 11.],\n",
       "       [13., 17., 19., 23., 29.],\n",
       "       [31., 37., 41., 43., 47.],\n",
       "       [53., 59., 61., 67., 71.],\n",
       "       [73., 79., 83., 89., 97.]], dtype=float32)"
      ]
     },
     "execution_count": 22,
     "metadata": {},
     "output_type": "execute_result"
    }
   ],
   "source": [
    "prime_tensor = tf.Variable((tf.convert_to_tensor(list, dtype=tf.float32)))\n",
    "prime_tensor.read_value().numpy()"
   ]
  },
  {
   "cell_type": "markdown",
   "id": "0f23e0f7",
   "metadata": {},
   "source": [
    "## "
   ]
  },
  {
   "cell_type": "markdown",
   "id": "112a0124",
   "metadata": {},
   "source": [
    "3. Tampilkan dimensi dari kedua variable tersebut"
   ]
  },
  {
   "cell_type": "code",
   "execution_count": 23,
   "id": "1c745e42",
   "metadata": {},
   "outputs": [
    {
     "name": "stdout",
     "output_type": "stream",
     "text": [
      "(5, 5)\n",
      "(5, 5)\n"
     ]
    }
   ],
   "source": [
    "print(random_tensor.shape)\n",
    "print(prime_tensor.shape)"
   ]
  },
  {
   "cell_type": "markdown",
   "id": "9b1ef26b",
   "metadata": {},
   "source": [
    "## "
   ]
  },
  {
   "cell_type": "markdown",
   "id": "de053f96",
   "metadata": {},
   "source": [
    "4. Tampilkan hasil dari perhitungan aritmetika 2 variable tersebut (Gunakan minimal 5 operator)"
   ]
  },
  {
   "cell_type": "code",
   "execution_count": 35,
   "id": "76f104a9",
   "metadata": {},
   "outputs": [
    {
     "data": {
      "text/plain": [
       "array([[ 3.0221016,  5.1487036,  6.2131   ,  9.383123 , 10.7385845],\n",
       "       [14.392834 , 20.20478  , 22.909056 , 24.4397   , 31.205942 ],\n",
       "       [33.611008 , 39.86814  , 42.52723  , 44.878452 , 48.534767 ],\n",
       "       [54.921307 , 61.23379  , 63.069286 , 70.611084 , 71.53982  ],\n",
       "       [74.29029  , 79.8325   , 84.369705 , 88.42181  , 99.46479  ]],\n",
       "      dtype=float32)"
      ]
     },
     "execution_count": 35,
     "metadata": {},
     "output_type": "execute_result"
    }
   ],
   "source": [
    "# Pertambahan\n",
    "tf.add(random_tensor,prime_tensor).numpy()"
   ]
  },
  {
   "cell_type": "code",
   "execution_count": 36,
   "id": "38e046b7",
   "metadata": {},
   "outputs": [
    {
     "data": {
      "text/plain": [
       "array([[ -0.97789836,  -0.8512964 ,  -3.7869    ,  -4.616876  ,\n",
       "        -11.2614155 ],\n",
       "       [-11.607166  , -13.795218  , -15.090944  , -21.5603    ,\n",
       "        -26.794058  ],\n",
       "       [-28.388992  , -34.13186   , -39.47277   , -41.121548  ,\n",
       "        -45.465233  ],\n",
       "       [-51.078693  , -56.76621   , -58.930714  , -63.388912  ,\n",
       "        -70.46018   ],\n",
       "       [-71.70971   , -78.1675    , -81.630295  , -89.57819   ,\n",
       "        -94.53521   ]], dtype=float32)"
      ]
     },
     "execution_count": 36,
     "metadata": {},
     "output_type": "execute_result"
    }
   ],
   "source": [
    "# Pengurangan\n",
    "tf.subtract(random_tensor,prime_tensor).numpy()"
   ]
  },
  {
   "cell_type": "code",
   "execution_count": 37,
   "id": "68f5cdf6",
   "metadata": {},
   "outputs": [
    {
     "data": {
      "text/plain": [
       "array([[  2.0442033,   6.4461107,   6.0655   ,  16.681868 ,  -2.8755703],\n",
       "       [ 18.106842 ,  54.48128  ,  74.27205  ,  33.113064 ,  63.97231  ],\n",
       "       [ 80.94123  , 106.12122  ,  62.616364 ,  80.77352  ,  72.13401  ],\n",
       "       [101.82918  , 131.79366  , 126.22638  , 241.94289  ,  38.327175 ],\n",
       "       [ 94.19111  ,  65.76706  , 113.68568  , -51.459553 , 239.08447  ]],\n",
       "      dtype=float32)"
      ]
     },
     "execution_count": 37,
     "metadata": {},
     "output_type": "execute_result"
    }
   ],
   "source": [
    "# Perkalian\n",
    "tf.multiply(random_tensor,prime_tensor).numpy()"
   ]
  },
  {
   "cell_type": "code",
   "execution_count": 38,
   "id": "e0771768",
   "metadata": {},
   "outputs": [
    {
     "data": {
      "text/plain": [
       "array([[ 0.5110508 ,  0.7162345 ,  0.24261999,  0.34044626, -0.02376504],\n",
       "       [ 0.10714107,  0.18851654,  0.20573975,  0.06259558,  0.07606696],\n",
       "       [ 0.08422605,  0.07751733,  0.03724947,  0.04368497,  0.0326546 ],\n",
       "       [ 0.03625104,  0.03786086,  0.0339227 ,  0.05389683,  0.00760309],\n",
       "       [ 0.01767519,  0.0105379 ,  0.01650249, -0.0064966 ,  0.02541019]],\n",
       "      dtype=float32)"
      ]
     },
     "execution_count": 38,
     "metadata": {},
     "output_type": "execute_result"
    }
   ],
   "source": [
    "# Pembagian\n",
    "tf.divide(random_tensor,prime_tensor).numpy()"
   ]
  },
  {
   "cell_type": "code",
   "execution_count": 39,
   "id": "0f5b78ae",
   "metadata": {},
   "outputs": [
    {
     "data": {
      "text/plain": [
       "array([[ 1.0446918e+00,  9.9204073e+00,  2.6271384e+00,  4.3654230e+02,\n",
       "        -3.8962278e-07],\n",
       "       [ 7.4249146e+01,  3.9680099e+08,  1.7756784e+11,  4.3676255e+03,\n",
       "         9.2093030e+09],\n",
       "       [ 8.3377998e+12,  8.5353121e+16,  3.4678724e+07,  5.9350444e+11,\n",
       "         5.5460602e+08],\n",
       "       [ 1.0730209e+15,  3.9220058e+20,  1.8409322e+19,  2.3001132e+37,\n",
       "         9.7642829e-20],\n",
       "       [ 1.2026926e+08,  5.1300719e-07,  2.1882490e+11, -6.6798288e-22,\n",
       "         1.0060645e+38]], dtype=float32)"
      ]
     },
     "execution_count": 39,
     "metadata": {},
     "output_type": "execute_result"
    }
   ],
   "source": [
    "# Pemangkatan\n",
    "tf.pow(random_tensor,prime_tensor).numpy()"
   ]
  },
  {
   "cell_type": "markdown",
   "id": "e288655d",
   "metadata": {},
   "source": [
    "## "
   ]
  },
  {
   "cell_type": "markdown",
   "id": "77236aa5",
   "metadata": {},
   "source": [
    "5. Tampilkan nilai maksimal dan minimal dari variable random_tensor"
   ]
  },
  {
   "cell_type": "code",
   "execution_count": 29,
   "id": "8b889981",
   "metadata": {},
   "outputs": [
    {
     "data": {
      "text/plain": [
       "array([2, 1, 1, 3, 4], dtype=int64)"
      ]
     },
     "execution_count": 29,
     "metadata": {},
     "output_type": "execute_result"
    }
   ],
   "source": [
    "tf.argmax(random_tensor, axis=0).numpy()"
   ]
  },
  {
   "cell_type": "code",
   "execution_count": 30,
   "id": "60f1528b",
   "metadata": {},
   "outputs": [
    {
     "data": {
      "text/plain": [
       "array([0, 4, 0, 4, 0], dtype=int64)"
      ]
     },
     "execution_count": 30,
     "metadata": {},
     "output_type": "execute_result"
    }
   ],
   "source": [
    "tf.argmin(random_tensor, axis=0).numpy()"
   ]
  },
  {
   "cell_type": "markdown",
   "id": "0f5a9f1b",
   "metadata": {},
   "source": [
    "## "
   ]
  },
  {
   "cell_type": "markdown",
   "id": "e2ddb83f",
   "metadata": {},
   "source": [
    "6. Tampilkan hasil dari penggabungan variable random_tensor dengan prime_tensor (concatenation)"
   ]
  },
  {
   "cell_type": "code",
   "execution_count": 31,
   "id": "b2799d13",
   "metadata": {},
   "outputs": [
    {
     "name": "stdout",
     "output_type": "stream",
     "text": [
      "Size Awal : (5, 5) (5, 5)\n"
     ]
    }
   ],
   "source": [
    "# Sebelum\n",
    "print(f\"Size Awal : {random_tensor.shape} {prime_tensor.shape}\" )"
   ]
  },
  {
   "cell_type": "code",
   "execution_count": 32,
   "id": "bceebe60",
   "metadata": {},
   "outputs": [
    {
     "name": "stdout",
     "output_type": "stream",
     "text": [
      "Size yang sudah di concat (axis = 0) : (10, 5)\n",
      "Size yang sudah di concat (axis = 1) : (5, 10)\n"
     ]
    }
   ],
   "source": [
    "# Setelah\n",
    "concat_tensor_1 = tf.concat([random_tensor, prime_tensor], axis=0)\n",
    "concat_tensor_2 = tf.concat([random_tensor, prime_tensor], axis=1)\n",
    "print(f\"Size yang sudah di concat (axis = 0) : {concat_tensor_1.shape}\")\n",
    "print(f\"Size yang sudah di concat (axis = 1) : {concat_tensor_2.shape}\")"
   ]
  },
  {
   "cell_type": "markdown",
   "id": "0211bb42",
   "metadata": {},
   "source": [
    "## "
   ]
  },
  {
   "cell_type": "markdown",
   "id": "26b281ad",
   "metadata": {},
   "source": [
    "7. Tampilkan hasil sorting dari kedua variable di atas. (descending)"
   ]
  },
  {
   "cell_type": "code",
   "execution_count": 33,
   "id": "3eea332a",
   "metadata": {},
   "outputs": [
    {
     "data": {
      "text/plain": [
       "array([[ 2.3831239 ,  2.1487036 ,  1.2131    ,  1.0221016 , -0.26141548],\n",
       "       [ 3.9090552 ,  3.2047813 ,  2.2059417 ,  1.4396985 ,  1.392834  ],\n",
       "       [ 2.8681412 ,  2.6110075 ,  1.878454  ,  1.5347662 ,  1.5272284 ],\n",
       "       [ 3.6110878 ,  2.2337909 ,  2.069285  ,  1.9213053 ,  0.53981936],\n",
       "       [ 2.4647884 ,  1.369707  ,  1.2902892 ,  0.8324944 , -0.57819724]],\n",
       "      dtype=float32)"
      ]
     },
     "execution_count": 33,
     "metadata": {},
     "output_type": "execute_result"
    }
   ],
   "source": [
    "# Sorting random_tensor secara descending\n",
    "tf.sort(random_tensor, direction=\"DESCENDING\").numpy()"
   ]
  },
  {
   "cell_type": "code",
   "execution_count": 34,
   "id": "fc2d587a",
   "metadata": {},
   "outputs": [
    {
     "data": {
      "text/plain": [
       "array([[11.,  7.,  5.,  3.,  2.],\n",
       "       [29., 23., 19., 17., 13.],\n",
       "       [47., 43., 41., 37., 31.],\n",
       "       [71., 67., 61., 59., 53.],\n",
       "       [97., 89., 83., 79., 73.]], dtype=float32)"
      ]
     },
     "execution_count": 34,
     "metadata": {},
     "output_type": "execute_result"
    }
   ],
   "source": [
    "# Sorting random_tensor secara descending\n",
    "tf.sort(prime_tensor, direction=\"DESCENDING\").numpy()"
   ]
  }
 ],
 "metadata": {
  "kernelspec": {
   "display_name": "Python 3 (ipykernel)",
   "language": "python",
   "name": "python3"
  },
  "language_info": {
   "codemirror_mode": {
    "name": "ipython",
    "version": 3
   },
   "file_extension": ".py",
   "mimetype": "text/x-python",
   "name": "python",
   "nbconvert_exporter": "python",
   "pygments_lexer": "ipython3",
   "version": "3.10.7"
  }
 },
 "nbformat": 4,
 "nbformat_minor": 5
}
