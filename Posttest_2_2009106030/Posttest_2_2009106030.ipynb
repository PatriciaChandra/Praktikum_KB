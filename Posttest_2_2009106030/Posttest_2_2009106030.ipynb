{
 "cells": [
  {
   "cell_type": "markdown",
   "id": "5885b955",
   "metadata": {},
   "source": [
    "##  POSTTEST 2 KECERDASAN BUATAN"
   ]
  },
  {
   "cell_type": "markdown",
   "id": "d32e3775",
   "metadata": {},
   "source": [
    "## Patricia Chandra / 2009106030"
   ]
  },
  {
   "cell_type": "code",
   "execution_count": 2,
   "id": "d31eb8ea",
   "metadata": {},
   "outputs": [],
   "source": [
    "import pandas as pd"
   ]
  },
  {
   "cell_type": "code",
   "execution_count": 6,
   "id": "386de311",
   "metadata": {},
   "outputs": [],
   "source": [
    "df = pd.read_csv(\"Top 2000 Universities of the World - Sheet1.csv\")"
   ]
  },
  {
   "cell_type": "code",
   "execution_count": 7,
   "id": "45afaccc",
   "metadata": {},
   "outputs": [
    {
     "data": {
      "text/html": [
       "<div>\n",
       "<style scoped>\n",
       "    .dataframe tbody tr th:only-of-type {\n",
       "        vertical-align: middle;\n",
       "    }\n",
       "\n",
       "    .dataframe tbody tr th {\n",
       "        vertical-align: top;\n",
       "    }\n",
       "\n",
       "    .dataframe thead th {\n",
       "        text-align: right;\n",
       "    }\n",
       "</style>\n",
       "<table border=\"1\" class=\"dataframe\">\n",
       "  <thead>\n",
       "    <tr style=\"text-align: right;\">\n",
       "      <th></th>\n",
       "      <th>World Rank</th>\n",
       "      <th>Institution</th>\n",
       "      <th>Country</th>\n",
       "      <th>National Rank</th>\n",
       "      <th>Quality of Education Rank</th>\n",
       "      <th>Alumni Employment Rank</th>\n",
       "      <th>Quality of Faculty Rank</th>\n",
       "      <th>Research Performance Rank</th>\n",
       "      <th>Score</th>\n",
       "    </tr>\n",
       "  </thead>\n",
       "  <tbody>\n",
       "    <tr>\n",
       "      <th>0</th>\n",
       "      <td>1</td>\n",
       "      <td>Harvard University</td>\n",
       "      <td>USA</td>\n",
       "      <td>1</td>\n",
       "      <td>1</td>\n",
       "      <td>1</td>\n",
       "      <td>1</td>\n",
       "      <td>1</td>\n",
       "      <td>100.0</td>\n",
       "    </tr>\n",
       "    <tr>\n",
       "      <th>1</th>\n",
       "      <td>2</td>\n",
       "      <td>Massachusetts Institute of Technology</td>\n",
       "      <td>USA</td>\n",
       "      <td>2</td>\n",
       "      <td>4</td>\n",
       "      <td>12</td>\n",
       "      <td>2</td>\n",
       "      <td>8</td>\n",
       "      <td>96.7</td>\n",
       "    </tr>\n",
       "    <tr>\n",
       "      <th>2</th>\n",
       "      <td>3</td>\n",
       "      <td>Stanford University</td>\n",
       "      <td>USA</td>\n",
       "      <td>3</td>\n",
       "      <td>10</td>\n",
       "      <td>4</td>\n",
       "      <td>3</td>\n",
       "      <td>2</td>\n",
       "      <td>95.1</td>\n",
       "    </tr>\n",
       "    <tr>\n",
       "      <th>3</th>\n",
       "      <td>4</td>\n",
       "      <td>University of Cambridge</td>\n",
       "      <td>United Kingdom</td>\n",
       "      <td>1</td>\n",
       "      <td>3</td>\n",
       "      <td>25</td>\n",
       "      <td>4</td>\n",
       "      <td>10</td>\n",
       "      <td>94.1</td>\n",
       "    </tr>\n",
       "    <tr>\n",
       "      <th>4</th>\n",
       "      <td>5</td>\n",
       "      <td>University of Oxford</td>\n",
       "      <td>United Kingdom</td>\n",
       "      <td>2</td>\n",
       "      <td>7</td>\n",
       "      <td>27</td>\n",
       "      <td>9</td>\n",
       "      <td>4</td>\n",
       "      <td>93.3</td>\n",
       "    </tr>\n",
       "  </tbody>\n",
       "</table>\n",
       "</div>"
      ],
      "text/plain": [
       "   World Rank                            Institution         Country  \\\n",
       "0           1                     Harvard University             USA   \n",
       "1           2  Massachusetts Institute of Technology             USA   \n",
       "2           3                    Stanford University             USA   \n",
       "3           4                University of Cambridge  United Kingdom   \n",
       "4           5                   University of Oxford  United Kingdom   \n",
       "\n",
       "   National Rank Quality of Education Rank Alumni Employment Rank  \\\n",
       "0              1                         1                      1   \n",
       "1              2                         4                     12   \n",
       "2              3                        10                      4   \n",
       "3              1                         3                     25   \n",
       "4              2                         7                     27   \n",
       "\n",
       "  Quality of Faculty Rank Research Performance Rank  Score  \n",
       "0                       1                         1  100.0  \n",
       "1                       2                         8   96.7  \n",
       "2                       3                         2   95.1  \n",
       "3                       4                        10   94.1  \n",
       "4                       9                         4   93.3  "
      ]
     },
     "execution_count": 7,
     "metadata": {},
     "output_type": "execute_result"
    }
   ],
   "source": [
    "df.head()"
   ]
  },
  {
   "cell_type": "markdown",
   "id": "e04bd2b4",
   "metadata": {},
   "source": [
    "## Jumlah Record, Nama Attribute, Jumlah attribute dengan tipe objek, Jumlah attribute dengan tipe angka, Jumlah attribute yang memiliki nilai null"
   ]
  },
  {
   "cell_type": "code",
   "execution_count": 8,
   "id": "c7ffb5ce",
   "metadata": {},
   "outputs": [
    {
     "name": "stdout",
     "output_type": "stream",
     "text": [
      "<class 'pandas.core.frame.DataFrame'>\n",
      "RangeIndex: 2000 entries, 0 to 1999\n",
      "Data columns (total 9 columns):\n",
      " #   Column                     Non-Null Count  Dtype  \n",
      "---  ------                     --------------  -----  \n",
      " 0   World Rank                 2000 non-null   int64  \n",
      " 1   Institution                2000 non-null   object \n",
      " 2   Country                    2000 non-null   object \n",
      " 3   National Rank              2000 non-null   int64  \n",
      " 4   Quality of Education Rank  2000 non-null   object \n",
      " 5   Alumni Employment Rank     2000 non-null   object \n",
      " 6   Quality of Faculty Rank    2000 non-null   object \n",
      " 7   Research Performance Rank  2000 non-null   object \n",
      " 8   Score                      2000 non-null   float64\n",
      "dtypes: float64(1), int64(2), object(6)\n",
      "memory usage: 140.8+ KB\n"
     ]
    }
   ],
   "source": [
    "df.info()"
   ]
  },
  {
   "cell_type": "code",
   "execution_count": 10,
   "id": "3bc0cc97",
   "metadata": {},
   "outputs": [
    {
     "data": {
      "text/plain": [
       "0"
      ]
     },
     "execution_count": 10,
     "metadata": {},
     "output_type": "execute_result"
    }
   ],
   "source": [
    "df.isnull().any().sum()"
   ]
  },
  {
   "cell_type": "markdown",
   "id": "1ff04ab0",
   "metadata": {},
   "source": [
    "## Jumlah Attribute"
   ]
  },
  {
   "cell_type": "code",
   "execution_count": 9,
   "id": "03bb8a6e",
   "metadata": {},
   "outputs": [
    {
     "data": {
      "text/plain": [
       "(2000, 9)"
      ]
     },
     "execution_count": 9,
     "metadata": {},
     "output_type": "execute_result"
    }
   ],
   "source": [
    "df.shape"
   ]
  },
  {
   "cell_type": "markdown",
   "id": "668e86ed",
   "metadata": {},
   "source": [
    "## Dictionary dengan key sesuai nama informasinya"
   ]
  },
  {
   "cell_type": "code",
   "execution_count": 32,
   "id": "ad203dc8",
   "metadata": {},
   "outputs": [
    {
     "name": "stdout",
     "output_type": "stream",
     "text": [
      "World Rank :  1\n",
      "Institution :  Harvard University\n",
      "Country :  USA\n",
      "National Rank :  1\n",
      "Quality of Education Rank :  1\n",
      "Alumni Employment Rank :  1\n",
      "Quality of Faculty Rank :  1\n",
      "Research Performance Rank :  1\n",
      "Score :  100.0\n"
     ]
    }
   ],
   "source": [
    "dict = {'World Rank' : '1',\n",
    "        'Institution' : 'Harvard University',\n",
    "        'Country' : 'USA',\n",
    "        'National Rank' : '1', \n",
    "        'Quality of Education Rank' : '1', \n",
    "        'Alumni Employment Rank' : '1', \n",
    "        'Quality of Faculty Rank' : '1', \n",
    "        'Research Performance Rank' : '1', \n",
    "        'Score' : '100.0'}\n",
    "print (\"World Rank : \", dict['World Rank'])\n",
    "print (\"Institution : \", dict['Institution'])\n",
    "print (\"Country : \", dict['Country'])\n",
    "print (\"National Rank : \", dict['National Rank'])\n",
    "print (\"Quality of Education Rank : \", dict['Quality of Education Rank'])\n",
    "print (\"Alumni Employment Rank : \", dict['Alumni Employment Rank'])\n",
    "print (\"Quality of Faculty Rank : \", dict['Quality of Faculty Rank'])\n",
    "print (\"Research Performance Rank : \", dict['Research Performance Rank'])\n",
    "print (\"Score : \", dict['Score'])"
   ]
  },
  {
   "cell_type": "markdown",
   "id": "eb611db9",
   "metadata": {},
   "source": [
    "## Rata-rata, standar deviasi, nilai minimum, nilai maksimum, Q1, Q2, Q3 dari attribute bertipe angka"
   ]
  },
  {
   "cell_type": "code",
   "execution_count": 14,
   "id": "5daa711f",
   "metadata": {},
   "outputs": [
    {
     "data": {
      "text/html": [
       "<div>\n",
       "<style scoped>\n",
       "    .dataframe tbody tr th:only-of-type {\n",
       "        vertical-align: middle;\n",
       "    }\n",
       "\n",
       "    .dataframe tbody tr th {\n",
       "        vertical-align: top;\n",
       "    }\n",
       "\n",
       "    .dataframe thead th {\n",
       "        text-align: right;\n",
       "    }\n",
       "</style>\n",
       "<table border=\"1\" class=\"dataframe\">\n",
       "  <thead>\n",
       "    <tr style=\"text-align: right;\">\n",
       "      <th></th>\n",
       "      <th>Unnamed: 0</th>\n",
       "      <th>rating</th>\n",
       "    </tr>\n",
       "  </thead>\n",
       "  <tbody>\n",
       "    <tr>\n",
       "      <th>count</th>\n",
       "      <td>12635.000000</td>\n",
       "      <td>12635.000000</td>\n",
       "    </tr>\n",
       "    <tr>\n",
       "      <th>mean</th>\n",
       "      <td>6317.319747</td>\n",
       "      <td>6.945105</td>\n",
       "    </tr>\n",
       "    <tr>\n",
       "      <th>std</th>\n",
       "      <td>3648.018413</td>\n",
       "      <td>1.254719</td>\n",
       "    </tr>\n",
       "    <tr>\n",
       "      <th>min</th>\n",
       "      <td>0.000000</td>\n",
       "      <td>1.000000</td>\n",
       "    </tr>\n",
       "    <tr>\n",
       "      <th>25%</th>\n",
       "      <td>3158.500000</td>\n",
       "      <td>6.300000</td>\n",
       "    </tr>\n",
       "    <tr>\n",
       "      <th>50%</th>\n",
       "      <td>6317.000000</td>\n",
       "      <td>7.200000</td>\n",
       "    </tr>\n",
       "    <tr>\n",
       "      <th>75%</th>\n",
       "      <td>9475.500000</td>\n",
       "      <td>7.800000</td>\n",
       "    </tr>\n",
       "    <tr>\n",
       "      <th>max</th>\n",
       "      <td>12637.000000</td>\n",
       "      <td>9.800000</td>\n",
       "    </tr>\n",
       "  </tbody>\n",
       "</table>\n",
       "</div>"
      ],
      "text/plain": [
       "         Unnamed: 0        rating\n",
       "count  12635.000000  12635.000000\n",
       "mean    6317.319747      6.945105\n",
       "std     3648.018413      1.254719\n",
       "min        0.000000      1.000000\n",
       "25%     3158.500000      6.300000\n",
       "50%     6317.000000      7.200000\n",
       "75%     9475.500000      7.800000\n",
       "max    12637.000000      9.800000"
      ]
     },
     "execution_count": 14,
     "metadata": {},
     "output_type": "execute_result"
    }
   ],
   "source": [
    "df.describe()"
   ]
  },
  {
   "cell_type": "markdown",
   "id": "f990e386",
   "metadata": {},
   "source": [
    "## Data Kolerasi"
   ]
  },
  {
   "cell_type": "code",
   "execution_count": 12,
   "id": "09f4049c",
   "metadata": {},
   "outputs": [
    {
     "data": {
      "text/html": [
       "<div>\n",
       "<style scoped>\n",
       "    .dataframe tbody tr th:only-of-type {\n",
       "        vertical-align: middle;\n",
       "    }\n",
       "\n",
       "    .dataframe tbody tr th {\n",
       "        vertical-align: top;\n",
       "    }\n",
       "\n",
       "    .dataframe thead th {\n",
       "        text-align: right;\n",
       "    }\n",
       "</style>\n",
       "<table border=\"1\" class=\"dataframe\">\n",
       "  <thead>\n",
       "    <tr style=\"text-align: right;\">\n",
       "      <th></th>\n",
       "      <th>World Rank</th>\n",
       "      <th>National Rank</th>\n",
       "      <th>Score</th>\n",
       "    </tr>\n",
       "  </thead>\n",
       "  <tbody>\n",
       "    <tr>\n",
       "      <th>World Rank</th>\n",
       "      <td>1.00000</td>\n",
       "      <td>0.344200</td>\n",
       "      <td>-0.916950</td>\n",
       "    </tr>\n",
       "    <tr>\n",
       "      <th>National Rank</th>\n",
       "      <td>0.34420</td>\n",
       "      <td>1.000000</td>\n",
       "      <td>-0.329112</td>\n",
       "    </tr>\n",
       "    <tr>\n",
       "      <th>Score</th>\n",
       "      <td>-0.91695</td>\n",
       "      <td>-0.329112</td>\n",
       "      <td>1.000000</td>\n",
       "    </tr>\n",
       "  </tbody>\n",
       "</table>\n",
       "</div>"
      ],
      "text/plain": [
       "               World Rank  National Rank     Score\n",
       "World Rank        1.00000       0.344200 -0.916950\n",
       "National Rank     0.34420       1.000000 -0.329112\n",
       "Score            -0.91695      -0.329112  1.000000"
      ]
     },
     "execution_count": 12,
     "metadata": {},
     "output_type": "execute_result"
    }
   ],
   "source": [
    "dfkorel = df.corr()\n",
    "dfkorel"
   ]
  },
  {
   "cell_type": "markdown",
   "id": "6b7b39b6",
   "metadata": {},
   "source": [
    "## Mengubah salah satu attribute bertipe angka menjadi desimal 3 angka dibelakang koma"
   ]
  },
  {
   "cell_type": "code",
   "execution_count": 17,
   "id": "b429cfe4",
   "metadata": {},
   "outputs": [
    {
     "data": {
      "text/plain": [
       "0    1\n",
       "1    2\n",
       "2    3\n",
       "3    4\n",
       "4    5\n",
       "Name: World Rank, dtype: int64"
      ]
     },
     "execution_count": 17,
     "metadata": {},
     "output_type": "execute_result"
    }
   ],
   "source": [
    "df[\"World Rank\"].head()"
   ]
  },
  {
   "cell_type": "code",
   "execution_count": 20,
   "id": "cf0e4432",
   "metadata": {},
   "outputs": [],
   "source": [
    "df[\"World Rank\"] = df[\"World Rank\"] * 0.005"
   ]
  },
  {
   "cell_type": "code",
   "execution_count": 21,
   "id": "459baf60",
   "metadata": {},
   "outputs": [
    {
     "data": {
      "text/plain": [
       "0    0.000025\n",
       "1    0.000050\n",
       "2    0.000075\n",
       "3    0.000100\n",
       "4    0.000125\n",
       "Name: World Rank, dtype: float64"
      ]
     },
     "execution_count": 21,
     "metadata": {},
     "output_type": "execute_result"
    }
   ],
   "source": [
    "df[\"World Rank\"].head()"
   ]
  },
  {
   "cell_type": "markdown",
   "id": "76826fe6",
   "metadata": {},
   "source": [
    "## Tampilkan 10 record pertama dari attribute bertipe angka"
   ]
  },
  {
   "cell_type": "code",
   "execution_count": 24,
   "id": "d06eaaa0",
   "metadata": {},
   "outputs": [
    {
     "data": {
      "text/html": [
       "<div>\n",
       "<style scoped>\n",
       "    .dataframe tbody tr th:only-of-type {\n",
       "        vertical-align: middle;\n",
       "    }\n",
       "\n",
       "    .dataframe tbody tr th {\n",
       "        vertical-align: top;\n",
       "    }\n",
       "\n",
       "    .dataframe thead th {\n",
       "        text-align: right;\n",
       "    }\n",
       "</style>\n",
       "<table border=\"1\" class=\"dataframe\">\n",
       "  <thead>\n",
       "    <tr style=\"text-align: right;\">\n",
       "      <th></th>\n",
       "      <th>World Rank</th>\n",
       "      <th>National Rank</th>\n",
       "      <th>Score</th>\n",
       "    </tr>\n",
       "  </thead>\n",
       "  <tbody>\n",
       "    <tr>\n",
       "      <th>0</th>\n",
       "      <td>0.000025</td>\n",
       "      <td>1</td>\n",
       "      <td>100.0</td>\n",
       "    </tr>\n",
       "    <tr>\n",
       "      <th>1</th>\n",
       "      <td>0.000050</td>\n",
       "      <td>2</td>\n",
       "      <td>96.7</td>\n",
       "    </tr>\n",
       "    <tr>\n",
       "      <th>2</th>\n",
       "      <td>0.000075</td>\n",
       "      <td>3</td>\n",
       "      <td>95.1</td>\n",
       "    </tr>\n",
       "    <tr>\n",
       "      <th>3</th>\n",
       "      <td>0.000100</td>\n",
       "      <td>1</td>\n",
       "      <td>94.1</td>\n",
       "    </tr>\n",
       "    <tr>\n",
       "      <th>4</th>\n",
       "      <td>0.000125</td>\n",
       "      <td>2</td>\n",
       "      <td>93.3</td>\n",
       "    </tr>\n",
       "    <tr>\n",
       "      <th>5</th>\n",
       "      <td>0.000150</td>\n",
       "      <td>4</td>\n",
       "      <td>92.6</td>\n",
       "    </tr>\n",
       "    <tr>\n",
       "      <th>6</th>\n",
       "      <td>0.000175</td>\n",
       "      <td>5</td>\n",
       "      <td>92.0</td>\n",
       "    </tr>\n",
       "    <tr>\n",
       "      <th>7</th>\n",
       "      <td>0.000200</td>\n",
       "      <td>6</td>\n",
       "      <td>91.5</td>\n",
       "    </tr>\n",
       "    <tr>\n",
       "      <th>8</th>\n",
       "      <td>0.000225</td>\n",
       "      <td>7</td>\n",
       "      <td>91.1</td>\n",
       "    </tr>\n",
       "    <tr>\n",
       "      <th>9</th>\n",
       "      <td>0.000250</td>\n",
       "      <td>8</td>\n",
       "      <td>90.7</td>\n",
       "    </tr>\n",
       "  </tbody>\n",
       "</table>\n",
       "</div>"
      ],
      "text/plain": [
       "   World Rank  National Rank  Score\n",
       "0    0.000025              1  100.0\n",
       "1    0.000050              2   96.7\n",
       "2    0.000075              3   95.1\n",
       "3    0.000100              1   94.1\n",
       "4    0.000125              2   93.3\n",
       "5    0.000150              4   92.6\n",
       "6    0.000175              5   92.0\n",
       "7    0.000200              6   91.5\n",
       "8    0.000225              7   91.1\n",
       "9    0.000250              8   90.7"
      ]
     },
     "execution_count": 24,
     "metadata": {},
     "output_type": "execute_result"
    }
   ],
   "source": [
    "df[[\"World Rank\",\"National Rank\",\"Score\"]].head(10)"
   ]
  },
  {
   "cell_type": "markdown",
   "id": "5d6ff925",
   "metadata": {},
   "source": [
    "## Simpan csv"
   ]
  },
  {
   "cell_type": "code",
   "execution_count": 33,
   "id": "6bddc0fd",
   "metadata": {},
   "outputs": [],
   "source": [
    "df.to_csv(\"Posttest_2_2009106030.csv\",index=False)"
   ]
  },
  {
   "cell_type": "code",
   "execution_count": null,
   "id": "696a2c95",
   "metadata": {},
   "outputs": [],
   "source": []
  }
 ],
 "metadata": {
  "kernelspec": {
   "display_name": "Patricia_030",
   "language": "python",
   "name": "patricia_030"
  },
  "language_info": {
   "codemirror_mode": {
    "name": "ipython",
    "version": 3
   },
   "file_extension": ".py",
   "mimetype": "text/x-python",
   "name": "python",
   "nbconvert_exporter": "python",
   "pygments_lexer": "ipython3",
   "version": "3.10.7"
  }
 },
 "nbformat": 4,
 "nbformat_minor": 5
}
